{
 "cells": [
  {
   "cell_type": "markdown",
   "metadata": {},
   "source": [
    "## Types\n",
    "\n",
    "Now we'll build up the Hail interface from the ground up starting with types."
   ]
  },
  {
   "cell_type": "code",
   "execution_count": null,
   "metadata": {
    "slideshow": {
     "slide_type": "slide"
    }
   },
   "outputs": [],
   "source": [
    "import hail as hl\n",
    "hl.init()"
   ]
  },
  {
   "cell_type": "markdown",
   "metadata": {
    "slideshow": {
     "slide_type": "slide"
    }
   },
   "source": [
    "The Hail interface is **statically** typed.  That means each expression has a type, and that type constriants the set of values that expression can produce.\n",
    "\n",
    "What are the Hail types?"
   ]
  },
  {
   "cell_type": "markdown",
   "metadata": {
    "slideshow": {
     "slide_type": "slide"
    }
   },
   "source": [
    "There are three kinds of types: primitive types, container types, and domain-specific types."
   ]
  },
  {
   "cell_type": "markdown",
   "metadata": {
    "slideshow": {
     "slide_type": "slide"
    }
   },
   "source": [
    "The primitive types are:\n",
    "\n",
    " - [int32](https://hail.is/docs/devel/types.html#hail.expr.types.tint32)\n",
    " - [int64](https://hail.is/docs/devel/types.html#hail.expr.types.tint64)\n",
    " - [float32](https://hail.is/docs/devel/types.html#hail.expr.types.tfloat32)\n",
    " - [float64](https://hail.is/docs/devel/types.html#hail.expr.types.tfloat64)\n",
    " - [bool](https://hail.is/docs/devel/types.html#hail.expr.types.tbool)\n",
    " - [str](https://hail.is/docs/devel/types.html#hail.expr.types.tstr)\n",
    "\n",
    "The container types are:\n",
    "\n",
    " - [array](https://hail.is/docs/devel/types.html#hail.expr.types.tarray)\n",
    " - [set](https://hail.is/docs/devel/types.html#hail.expr.types.tset)\n",
    " - [dict](https://hail.is/docs/devel/types.html#hail.expr.types.tdict)\n",
    " - [tuple](https://hail.is/docs/devel/types.html#hail.expr.types.ttuple)\n",
    " - [struct](https://hail.is/docs/devel/types.html#hail.expr.types.tstruct)\n",
    " - [interval](https://hail.is/docs/devel/types.html#hail.expr.types.tinterval)\n",
    "\n",
    "The domain-specific types are:\n",
    "\n",
    " - [locus](https://hail.is/docs/devel/types.html#hail.expr.types.tlocus)\n",
    " - [call](https://hail.is/docs/devel/types.html#hail.expr.types.tcall)"
   ]
  },
  {
   "cell_type": "markdown",
   "metadata": {
    "slideshow": {
     "slide_type": "slide"
    }
   },
   "source": [
    "Hail types are usually printed as above, but when accessing them in the module, they all start with `t`:"
   ]
  },
  {
   "cell_type": "code",
   "execution_count": null,
   "metadata": {
    "slideshow": {
     "slide_type": "fragment"
    }
   },
   "outputs": [],
   "source": [
    "hl.tint32"
   ]
  },
  {
   "cell_type": "code",
   "execution_count": null,
   "metadata": {
    "slideshow": {
     "slide_type": "fragment"
    }
   },
   "outputs": [],
   "source": [
    "hl.tdict(hl.tstr, hl.tarray(hl.tint32))"
   ]
  },
  {
   "cell_type": "markdown",
   "metadata": {},
   "source": [
    "If you prefer the strings, you can parse them with [dtype](https://hail.is/docs/devel/types.html#hail.expr.types.dtype)."
   ]
  },
  {
   "cell_type": "code",
   "execution_count": null,
   "metadata": {},
   "outputs": [],
   "source": [
    "hl.dtype('dict<str, array<int32>>')"
   ]
  },
  {
   "cell_type": "markdown",
   "metadata": {
    "slideshow": {
     "slide_type": "slide"
    }
   },
   "source": [
    "In general, you won't need to mention types explicitly, but there are a few cases:\n",
    "\n",
    " - To specify column types in [import_table](https://hail.is/docs/devel/methods/impex.html#hail.methods.import_table), (although this function can also impute types automatically).\n",
    " - When converting a Python value to a Hail expression with [literal](https://hail.is/docs/devel/functions/core.html#hail.expr.functions.literal) (although again the type can often be determined automatically).\n",
    " - A few constructor functions, like [null](https://hail.is/docs/devel/functions/core.html#hail.expr.functions.null)."
   ]
  },
  {
   "cell_type": "markdown",
   "metadata": {},
   "source": [
    "## Expression types"
   ]
  },
  {
   "cell_type": "markdown",
   "metadata": {
    "slideshow": {
     "slide_type": "slide"
    }
   },
   "source": [
    "Each `Expression` has a type that can be accessed with the attribute `dtype`."
   ]
  },
  {
   "cell_type": "code",
   "execution_count": null,
   "metadata": {},
   "outputs": [],
   "source": [
    "e = hl.dict({'a': 5, 'b': 7})\n",
    "e"
   ]
  },
  {
   "cell_type": "code",
   "execution_count": null,
   "metadata": {},
   "outputs": [],
   "source": [
    "e.dtype"
   ]
  },
  {
   "cell_type": "markdown",
   "metadata": {},
   "source": [
    "If the rules for computing the type of an expression are violated, Hail with throw a type error.  For example, the types of the branches of a conditional must be the same.  The Hail conditional function is called `cond`."
   ]
  },
  {
   "cell_type": "code",
   "execution_count": null,
   "metadata": {},
   "outputs": [],
   "source": [
    "x = hl.int32(10)\n",
    "y = hl.int32(20)\n",
    "\n",
    "try:\n",
    "    hl.cond(x < y, \n",
    "            5, \n",
    "            'foo')\n",
    "except Exception as e:\n",
    "    print(f'ERROR: {e}')"
   ]
  },
  {
   "cell_type": "code",
   "execution_count": null,
   "metadata": {},
   "outputs": [],
   "source": []
  }
 ],
 "metadata": {
  "celltoolbar": "Slideshow",
  "kernelspec": {
   "display_name": "Python 3",
   "language": "python",
   "name": "python3"
  },
  "language_info": {
   "codemirror_mode": {
    "name": "ipython",
    "version": 3
   },
   "file_extension": ".py",
   "mimetype": "text/x-python",
   "name": "python",
   "nbconvert_exporter": "python",
   "pygments_lexer": "ipython3",
   "version": "3.6.3"
  }
 },
 "nbformat": 4,
 "nbformat_minor": 2
}
